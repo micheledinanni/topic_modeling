{
 "cells": [
  {
   "cell_type": "code",
   "execution_count": 1,
   "metadata": {},
   "outputs": [],
   "source": [
    "import tomotopy as tp\n",
    "import pandas as pd"
   ]
  },
  {
   "cell_type": "code",
   "execution_count": 2,
   "metadata": {},
   "outputs": [],
   "source": [
    "import nltk\n",
    "from time import time\n",
    "#nltk.download('punkt')\n",
    "from nltk import word_tokenize \n",
    "from nltk.corpus import stopwords\n",
    "#nltk.download('stopwords')\n",
    "#nltk.download('words')\n",
    "from nltk.stem.snowball import SnowballStemmer\n",
    "from sklearn.feature_extraction.text import CountVectorizer\n",
    "from sklearn.metrics import r2_score"
   ]
  },
  {
   "cell_type": "markdown",
   "metadata": {},
   "source": [
    "## Caricamento del dataset"
   ]
  },
  {
   "cell_type": "code",
   "execution_count": 3,
   "metadata": {},
   "outputs": [
    {
     "data": {
      "text/html": [
       "<div>\n",
       "<style scoped>\n",
       "    .dataframe tbody tr th:only-of-type {\n",
       "        vertical-align: middle;\n",
       "    }\n",
       "\n",
       "    .dataframe tbody tr th {\n",
       "        vertical-align: top;\n",
       "    }\n",
       "\n",
       "    .dataframe thead th {\n",
       "        text-align: right;\n",
       "    }\n",
       "</style>\n",
       "<table border=\"1\" class=\"dataframe\">\n",
       "  <thead>\n",
       "    <tr style=\"text-align: right;\">\n",
       "      <th></th>\n",
       "      <th>uniqueID</th>\n",
       "      <th>drugName</th>\n",
       "      <th>condition</th>\n",
       "      <th>review</th>\n",
       "      <th>rating</th>\n",
       "      <th>date</th>\n",
       "      <th>usefulCount</th>\n",
       "    </tr>\n",
       "  </thead>\n",
       "  <tbody>\n",
       "    <tr>\n",
       "      <th>0</th>\n",
       "      <td>163740</td>\n",
       "      <td>Mirtazapine</td>\n",
       "      <td>Depression</td>\n",
       "      <td>\"I&amp;#039;ve tried a few antidepressants over th...</td>\n",
       "      <td>10</td>\n",
       "      <td>28-Feb-12</td>\n",
       "      <td>22</td>\n",
       "    </tr>\n",
       "    <tr>\n",
       "      <th>1</th>\n",
       "      <td>206473</td>\n",
       "      <td>Mesalamine</td>\n",
       "      <td>Crohn's Disease, Maintenance</td>\n",
       "      <td>\"My son has Crohn&amp;#039;s disease and has done ...</td>\n",
       "      <td>8</td>\n",
       "      <td>17-May-09</td>\n",
       "      <td>17</td>\n",
       "    </tr>\n",
       "    <tr>\n",
       "      <th>2</th>\n",
       "      <td>159672</td>\n",
       "      <td>Bactrim</td>\n",
       "      <td>Urinary Tract Infection</td>\n",
       "      <td>\"Quick reduction of symptoms\"</td>\n",
       "      <td>9</td>\n",
       "      <td>29-Sep-17</td>\n",
       "      <td>3</td>\n",
       "    </tr>\n",
       "    <tr>\n",
       "      <th>3</th>\n",
       "      <td>39293</td>\n",
       "      <td>Contrave</td>\n",
       "      <td>Weight Loss</td>\n",
       "      <td>\"Contrave combines drugs that were used for al...</td>\n",
       "      <td>9</td>\n",
       "      <td>5-Mar-17</td>\n",
       "      <td>35</td>\n",
       "    </tr>\n",
       "    <tr>\n",
       "      <th>4</th>\n",
       "      <td>97768</td>\n",
       "      <td>Cyclafem 1 / 35</td>\n",
       "      <td>Birth Control</td>\n",
       "      <td>\"I have been on this birth control for one cyc...</td>\n",
       "      <td>9</td>\n",
       "      <td>22-Oct-15</td>\n",
       "      <td>4</td>\n",
       "    </tr>\n",
       "  </tbody>\n",
       "</table>\n",
       "</div>"
      ],
      "text/plain": [
       "   uniqueID         drugName                     condition  \\\n",
       "0    163740      Mirtazapine                    Depression   \n",
       "1    206473       Mesalamine  Crohn's Disease, Maintenance   \n",
       "2    159672          Bactrim       Urinary Tract Infection   \n",
       "3     39293         Contrave                   Weight Loss   \n",
       "4     97768  Cyclafem 1 / 35                 Birth Control   \n",
       "\n",
       "                                              review  rating       date  \\\n",
       "0  \"I&#039;ve tried a few antidepressants over th...      10  28-Feb-12   \n",
       "1  \"My son has Crohn&#039;s disease and has done ...       8  17-May-09   \n",
       "2                      \"Quick reduction of symptoms\"       9  29-Sep-17   \n",
       "3  \"Contrave combines drugs that were used for al...       9   5-Mar-17   \n",
       "4  \"I have been on this birth control for one cyc...       9  22-Oct-15   \n",
       "\n",
       "   usefulCount  \n",
       "0           22  \n",
       "1           17  \n",
       "2            3  \n",
       "3           35  \n",
       "4            4  "
      ]
     },
     "execution_count": 3,
     "metadata": {},
     "output_type": "execute_result"
    }
   ],
   "source": [
    "data_1 = pd.read_csv('C:/Users/micky/OneDrive/Desktop/Tesi DS/data/drugsComTest_raw.csv')\n",
    "data_2 = pd.read_csv('C:/Users/micky/OneDrive/Desktop/Tesi DS/data/drugsComTrain_raw.csv')\n",
    "data_1.head()"
   ]
  },
  {
   "cell_type": "code",
   "execution_count": 63,
   "metadata": {},
   "outputs": [],
   "source": [
    "#data = data.append(data_2)\n",
    "data = pd.concat([data_1,data_2])[['review','condition']]"
   ]
  },
  {
   "cell_type": "code",
   "execution_count": 64,
   "metadata": {},
   "outputs": [
    {
     "name": "stdout",
     "output_type": "stream",
     "text": [
      "Shape of the dataset:  (215063, 2)\n"
     ]
    }
   ],
   "source": [
    "print(\"Shape of the dataset: \", data.shape)"
   ]
  },
  {
   "cell_type": "code",
   "execution_count": 65,
   "metadata": {},
   "outputs": [
    {
     "data": {
      "text/plain": [
       "(10753, 2)"
      ]
     },
     "execution_count": 65,
     "metadata": {},
     "output_type": "execute_result"
    }
   ],
   "source": [
    "# sample 5%\n",
    "data = data.sample(frac=.05, random_state=9, replace=False)\n",
    "data.shape"
   ]
  },
  {
   "cell_type": "code",
   "execution_count": 66,
   "metadata": {},
   "outputs": [],
   "source": [
    "data = data[pd.notnull(data['review'])]"
   ]
  },
  {
   "cell_type": "code",
   "execution_count": 67,
   "metadata": {},
   "outputs": [
    {
     "data": {
      "text/html": [
       "<div>\n",
       "<style scoped>\n",
       "    .dataframe tbody tr th:only-of-type {\n",
       "        vertical-align: middle;\n",
       "    }\n",
       "\n",
       "    .dataframe tbody tr th {\n",
       "        vertical-align: top;\n",
       "    }\n",
       "\n",
       "    .dataframe thead th {\n",
       "        text-align: right;\n",
       "    }\n",
       "</style>\n",
       "<table border=\"1\" class=\"dataframe\">\n",
       "  <thead>\n",
       "    <tr style=\"text-align: right;\">\n",
       "      <th></th>\n",
       "      <th>condition</th>\n",
       "      <th>review</th>\n",
       "    </tr>\n",
       "  </thead>\n",
       "  <tbody>\n",
       "    <tr>\n",
       "      <th>77</th>\n",
       "      <td>Birth Control</td>\n",
       "      <td>1852</td>\n",
       "    </tr>\n",
       "    <tr>\n",
       "      <th>135</th>\n",
       "      <td>Depression</td>\n",
       "      <td>625</td>\n",
       "    </tr>\n",
       "    <tr>\n",
       "      <th>324</th>\n",
       "      <td>Pain</td>\n",
       "      <td>418</td>\n",
       "    </tr>\n",
       "    <tr>\n",
       "      <th>53</th>\n",
       "      <td>Anxiety</td>\n",
       "      <td>403</td>\n",
       "    </tr>\n",
       "    <tr>\n",
       "      <th>29</th>\n",
       "      <td>Acne</td>\n",
       "      <td>346</td>\n",
       "    </tr>\n",
       "  </tbody>\n",
       "</table>\n",
       "</div>"
      ],
      "text/plain": [
       "         condition  review\n",
       "77   Birth Control    1852\n",
       "135     Depression     625\n",
       "324           Pain     418\n",
       "53         Anxiety     403\n",
       "29            Acne     346"
      ]
     },
     "execution_count": 67,
     "metadata": {},
     "output_type": "execute_result"
    }
   ],
   "source": [
    "count_df = data[['condition', 'review']].groupby('condition').aggregate({\n",
    "    'review': 'count'\n",
    "}).reset_index().sort_values('review', ascending=False)\n",
    "count_df.head()"
   ]
  },
  {
   "cell_type": "code",
   "execution_count": 68,
   "metadata": {},
   "outputs": [
    {
     "data": {
      "text/plain": [
       "array(['Birth Control', 'Depression', 'Pain', 'Anxiety', 'Acne',\n",
       "       'Bipolar Disorde', 'Weight Loss', 'Insomnia', 'ADHD', 'Obesity'],\n",
       "      dtype=object)"
      ]
     },
     "execution_count": 68,
     "metadata": {},
     "output_type": "execute_result"
    }
   ],
   "source": [
    "target_conditions = count_df[count_df['review'] > 200]['condition'].values\n",
    "target_conditions"
   ]
  },
  {
   "cell_type": "code",
   "execution_count": 69,
   "metadata": {},
   "outputs": [
    {
     "data": {
      "text/plain": [
       "10"
      ]
     },
     "execution_count": 69,
     "metadata": {},
     "output_type": "execute_result"
    }
   ],
   "source": [
    "len(target_conditions)"
   ]
  },
  {
   "cell_type": "code",
   "execution_count": 70,
   "metadata": {},
   "outputs": [],
   "source": [
    "data = data[data['condition'].apply(lambda x: True\n",
    "                                    if x in target_conditions else False)]"
   ]
  },
  {
   "cell_type": "code",
   "execution_count": 71,
   "metadata": {},
   "outputs": [
    {
     "data": {
      "text/plain": [
       "(4889, 2)"
      ]
     },
     "execution_count": 71,
     "metadata": {},
     "output_type": "execute_result"
    }
   ],
   "source": [
    "data.shape #new shape"
   ]
  },
  {
   "cell_type": "code",
   "execution_count": 72,
   "metadata": {},
   "outputs": [],
   "source": [
    "from sklearn.preprocessing import LabelEncoder\n",
    "\n",
    "le = LabelEncoder()\n",
    "data['condition'] = le.fit_transform(data['condition'])"
   ]
  },
  {
   "cell_type": "code",
   "execution_count": 24,
   "metadata": {},
   "outputs": [
    {
     "data": {
      "text/plain": [
       "array([0, 8, 3, 5, 2, 9, 6, 7, 4, 1])"
      ]
     },
     "execution_count": 24,
     "metadata": {},
     "output_type": "execute_result"
    }
   ],
   "source": [
    "data.condition.unique()"
   ]
  },
  {
   "cell_type": "markdown",
   "metadata": {},
   "source": [
    "Conversione in minuscolo"
   ]
  },
  {
   "cell_type": "code",
   "execution_count": 25,
   "metadata": {},
   "outputs": [],
   "source": [
    "data['review'] = data['review'].str.lower()"
   ]
  },
  {
   "cell_type": "markdown",
   "metadata": {},
   "source": [
    "Rimozione numeri"
   ]
  },
  {
   "cell_type": "code",
   "execution_count": 26,
   "metadata": {},
   "outputs": [],
   "source": [
    "data['review'] = data['review'].str.replace(r'[0-9]+', ' ', regex=True)"
   ]
  },
  {
   "cell_type": "markdown",
   "metadata": {},
   "source": [
    "Rimozione link"
   ]
  },
  {
   "cell_type": "code",
   "execution_count": 27,
   "metadata": {},
   "outputs": [],
   "source": [
    "data['review'] = data['review'].str.replace(r'http\\S+', ' ', regex=True)"
   ]
  },
  {
   "cell_type": "markdown",
   "metadata": {},
   "source": [
    "Rimozione punteggiatura"
   ]
  },
  {
   "cell_type": "code",
   "execution_count": 28,
   "metadata": {},
   "outputs": [],
   "source": [
    "data['review'] = data['review'].str.replace(r'[^\\w\\s]', ' ', regex=True)"
   ]
  },
  {
   "cell_type": "markdown",
   "metadata": {},
   "source": [
    "Rimozione caratteri speciali tranne le lettere"
   ]
  },
  {
   "cell_type": "code",
   "execution_count": 29,
   "metadata": {},
   "outputs": [],
   "source": [
    "data['review'] = data['review'].str.replace(r'[^a-zA-Z0-9 ]', ' ', regex=True)"
   ]
  },
  {
   "cell_type": "markdown",
   "metadata": {},
   "source": [
    "Rimozione lettere singole e doppie"
   ]
  },
  {
   "cell_type": "code",
   "execution_count": 30,
   "metadata": {},
   "outputs": [],
   "source": [
    "data['review'] = data['review'].str.replace('\\\\b\\\\w{1,2}\\\\b', '', regex=True)"
   ]
  },
  {
   "cell_type": "markdown",
   "metadata": {},
   "source": [
    "Rimozione spazi extra"
   ]
  },
  {
   "cell_type": "code",
   "execution_count": 31,
   "metadata": {},
   "outputs": [],
   "source": [
    "data['review'] = data['review'].str.replace(' +', ' ', regex=True)"
   ]
  },
  {
   "cell_type": "code",
   "execution_count": 32,
   "metadata": {},
   "outputs": [
    {
     "data": {
      "text/plain": [
       "68054      great medicine recently restarted this medici...\n",
       "79399      had bad car wreck caused chronic back pain ha...\n",
       "8053       did nothing for pain from fibromyalgia amp ha...\n",
       "126235     started taking geodon last week has pulled ou...\n",
       "6375       have tried what seems like every medicine for...\n",
       "                                ...                        \n",
       "129590     have been this medication for over three mont...\n",
       "121083     was trying fall asleep for minutes then said ...\n",
       "106235     had nexplanon for about year hate had trouble...\n",
       "114773     today day phentermine only taking half the pi...\n",
       "29462      increased quality life after trying several a...\n",
       "Name: review, Length: 4889, dtype: object"
      ]
     },
     "execution_count": 32,
     "metadata": {},
     "output_type": "execute_result"
    }
   ],
   "source": [
    "data['review']"
   ]
  },
  {
   "cell_type": "markdown",
   "metadata": {},
   "source": [
    "Rimozione stopwords"
   ]
  },
  {
   "cell_type": "code",
   "execution_count": 33,
   "metadata": {},
   "outputs": [],
   "source": [
    "stop = stopwords.words('english')\n",
    "data['review'] = data['review'].apply(lambda x: [item for item in str(x).split() if item not in stop])"
   ]
  },
  {
   "cell_type": "markdown",
   "metadata": {},
   "source": [
    "Stemming"
   ]
  },
  {
   "cell_type": "code",
   "execution_count": 34,
   "metadata": {},
   "outputs": [
    {
     "data": {
      "text/plain": [
       "68054     [great, medicin, recent, restart, medicin, yea...\n",
       "79399     [bad, car, wreck, caus, chronic, back, pain, s...\n",
       "8053      [noth, pain, fibromyalgia, amp, chronic, pain,...\n",
       "126235    [start, take, geodon, last, week, pull, terrib...\n",
       "6375      [tri, seem, like, everi, medicin, depress, exp...\n",
       "                                ...                        \n",
       "129590    [medic, three, month, moder, acn, got, rid, ac...\n",
       "121083    [tri, fall, asleep, minut, said, ohh, crap, fo...\n",
       "106235    [nexplanon, year, hate, troubl, sleep, much, s...\n",
       "114773    [today, day, phentermin, take, half, pill, los...\n",
       "29462     [increas, qualiti, life, tri, sever, antidepre...\n",
       "Name: review, Length: 4889, dtype: object"
      ]
     },
     "execution_count": 34,
     "metadata": {},
     "output_type": "execute_result"
    }
   ],
   "source": [
    "stemmer = SnowballStemmer(\"english\")\n",
    "data['review'] = data['review'].apply(lambda x: [stemmer.stem(y) for y in x])\n",
    "data['review']"
   ]
  },
  {
   "cell_type": "markdown",
   "metadata": {},
   "source": [
    "Rimozione eventuali documenti vuoti"
   ]
  },
  {
   "cell_type": "code",
   "execution_count": 35,
   "metadata": {},
   "outputs": [],
   "source": [
    "data = data[data['review'].map(len) != 0]"
   ]
  },
  {
   "cell_type": "code",
   "execution_count": 36,
   "metadata": {},
   "outputs": [
    {
     "data": {
      "text/plain": [
       "(4889, 2)"
      ]
     },
     "execution_count": 36,
     "metadata": {},
     "output_type": "execute_result"
    }
   ],
   "source": [
    "data.shape"
   ]
  },
  {
   "cell_type": "markdown",
   "metadata": {},
   "source": [
    "### Train-test split"
   ]
  },
  {
   "cell_type": "code",
   "execution_count": 37,
   "metadata": {},
   "outputs": [],
   "source": [
    "from sklearn.model_selection import train_test_split"
   ]
  },
  {
   "cell_type": "code",
   "execution_count": 38,
   "metadata": {},
   "outputs": [
    {
     "data": {
      "text/html": [
       "<div>\n",
       "<style scoped>\n",
       "    .dataframe tbody tr th:only-of-type {\n",
       "        vertical-align: middle;\n",
       "    }\n",
       "\n",
       "    .dataframe tbody tr th {\n",
       "        vertical-align: top;\n",
       "    }\n",
       "\n",
       "    .dataframe thead th {\n",
       "        text-align: right;\n",
       "    }\n",
       "</style>\n",
       "<table border=\"1\" class=\"dataframe\">\n",
       "  <thead>\n",
       "    <tr style=\"text-align: right;\">\n",
       "      <th></th>\n",
       "      <th>review</th>\n",
       "      <th>condition</th>\n",
       "    </tr>\n",
       "  </thead>\n",
       "  <tbody>\n",
       "    <tr>\n",
       "      <th>68054</th>\n",
       "      <td>[great, medicin, recent, restart, medicin, yea...</td>\n",
       "      <td>0</td>\n",
       "    </tr>\n",
       "    <tr>\n",
       "      <th>79399</th>\n",
       "      <td>[bad, car, wreck, caus, chronic, back, pain, s...</td>\n",
       "      <td>8</td>\n",
       "    </tr>\n",
       "    <tr>\n",
       "      <th>8053</th>\n",
       "      <td>[noth, pain, fibromyalgia, amp, chronic, pain,...</td>\n",
       "      <td>8</td>\n",
       "    </tr>\n",
       "    <tr>\n",
       "      <th>126235</th>\n",
       "      <td>[start, take, geodon, last, week, pull, terrib...</td>\n",
       "      <td>3</td>\n",
       "    </tr>\n",
       "    <tr>\n",
       "      <th>6375</th>\n",
       "      <td>[tri, seem, like, everi, medicin, depress, exp...</td>\n",
       "      <td>5</td>\n",
       "    </tr>\n",
       "  </tbody>\n",
       "</table>\n",
       "</div>"
      ],
      "text/plain": [
       "                                                   review  condition\n",
       "68054   [great, medicin, recent, restart, medicin, yea...          0\n",
       "79399   [bad, car, wreck, caus, chronic, back, pain, s...          8\n",
       "8053    [noth, pain, fibromyalgia, amp, chronic, pain,...          8\n",
       "126235  [start, take, geodon, last, week, pull, terrib...          3\n",
       "6375    [tri, seem, like, everi, medicin, depress, exp...          5"
      ]
     },
     "execution_count": 38,
     "metadata": {},
     "output_type": "execute_result"
    }
   ],
   "source": [
    "data.head()"
   ]
  },
  {
   "cell_type": "code",
   "execution_count": 44,
   "metadata": {},
   "outputs": [],
   "source": [
    "#train-test split 80%-20%\n",
    "X_train, X_test, y_train, y_test = train_test_split(data['review'],\n",
    "                                                    data['condition'],\n",
    "                                                    test_size=0.2,\n",
    "                                                    random_state=1234)"
   ]
  },
  {
   "cell_type": "code",
   "execution_count": 46,
   "metadata": {},
   "outputs": [
    {
     "name": "stdout",
     "output_type": "stream",
     "text": [
      "Num docs:3911, Num Vocabs:2839, Total Words:140111\n",
      "Removed Top words:  take month day year week get start effect period feel\n"
     ]
    }
   ],
   "source": [
    "slda = tp.SLDAModel(k=10, vars=['l'], seed=1234, rm_top=10, min_df=3, alpha=.1)\n",
    "\n",
    "for document, rating in zip(X_train, y_train):\n",
    "    slda.add_doc(document, [rating])\n",
    "\n",
    "slda.burn_in = 10\n",
    "slda.train(0)\n",
    "\n",
    "print('Num docs:{}, Num Vocabs:{}, Total Words:{}'.format(\n",
    "    len(slda.docs), len(slda.used_vocabs), slda.num_words))\n",
    "print('Removed Top words: ', *slda.removed_top_words)"
   ]
  },
  {
   "cell_type": "code",
   "execution_count": 47,
   "metadata": {},
   "outputs": [
    {
     "name": "stdout",
     "output_type": "stream",
     "text": [
      "done in 1.596s.\n"
     ]
    }
   ],
   "source": [
    "t0 = time()\n",
    "slda.train(100)\n",
    "print(\"done in %0.3fs.\" % (time() - t0))"
   ]
  },
  {
   "cell_type": "code",
   "execution_count": 48,
   "metadata": {},
   "outputs": [
    {
     "name": "stdout",
     "output_type": "stream",
     "text": [
      "R2 score sul test set per k=10: 0.5264247495160956\n"
     ]
    }
   ],
   "source": [
    "yhat = []\n",
    "for document in X_test:\n",
    "    doc = slda.make_doc(document)\n",
    "    slda.infer(doc)\n",
    "    yhat.append(slda.estimate(doc)[0])\n",
    "rsq = r2_score(y_test, yhat)\n",
    "print('R2 score sul test set per k={}: {}'.format(slda.k, rsq))"
   ]
  },
  {
   "cell_type": "code",
   "execution_count": 73,
   "metadata": {},
   "outputs": [
    {
     "name": "stdout",
     "output_type": "stream",
     "text": [
      "[('anxieti', 0.045218244194984436), ('depress', 0.04059953987598419), ('side', 0.01984388753771782), ('medic', 0.01938772015273571), ('help', 0.01704985834658146), ('medicin', 0.013058384880423546), ('life', 0.012773280031979084), ('sever', 0.012488174252212048), ('dose', 0.012260090559720993), ('drug', 0.012260090559720993), ('attack', 0.010777543298900127), ('increas', 0.010264354757964611), ('med', 0.009694144129753113), ('panic', 0.009237975813448429), ('also', 0.008952870965003967), ('symptom', 0.007983513176441193), ('suffer', 0.0076413871720433235), ('lexapro', 0.007299261167645454), ('less', 0.007014156319200993), ('disord', 0.007014156319200993), ('bipolar', 0.006957135628908873), ('ago', 0.006957135628908873), ('prescrib', 0.006557988468557596), ('better', 0.006557988468557596), ('amp', 0.006557988468557596), ('mood', 0.006272883154451847), ('work', 0.0061018201522529125), ('realli', 0.005987777840346098), ('daili', 0.005930757150053978), ('much', 0.005702672991901636)] \n",
      "\n",
      "[('cramp', 0.041182149201631546), ('pain', 0.03836633637547493), ('insert', 0.03607849031686783), ('bleed', 0.028159014880657196), ('got', 0.022263403981924057), ('spot', 0.02182343229651451), ('amp', 0.015223870053887367), ('mirena', 0.01487189345061779), ('implant', 0.014783899299800396), ('last', 0.012760033831000328), ('sinc', 0.011616109870374203), ('first', 0.011528115719556808), ('remov', 0.011264133267104626), ('heavi', 0.011000150814652443), ('bad', 0.011000150814652443), ('iud', 0.010912156663835049), ('stop', 0.01073616836220026), ('put', 0.009416256099939346), ('nexplanon', 0.009152273647487164), ('light', 0.008976285345852375), ('skyla', 0.008272332139313221), ('like', 0.007656372617930174), ('noth', 0.007128407713025808), ('arm', 0.007128407713025808), ('hormon', 0.0068644252605736256), ('ever', 0.006688436958938837), ('hour', 0.006688436958938837), ('would', 0.006424454506486654), ('second', 0.00633646035566926), ('birth', 0.00633646035566926)] \n",
      "\n",
      "[('sleep', 0.061852604150772095), ('night', 0.04418068379163742), ('work', 0.03119182214140892), ('hour', 0.02306273952126503), ('help', 0.020765388384461403), ('tri', 0.015287093818187714), ('time', 0.013961699791252613), ('morn', 0.01307810377329588), ('insomnia', 0.012813025154173374), ('wake', 0.012194507755339146), ('fall', 0.011575990356504917), ('medic', 0.011134193278849125), ('took', 0.010427316650748253), ('asleep', 0.010250597260892391), ('everi', 0.01007387787103653), ('dose', 0.01007387787103653), ('bed', 0.009897158481180668), ('well', 0.009808799251914024), ('first', 0.00972044002264738), ('last', 0.009101922623813152), ('within', 0.009101922623813152), ('need', 0.00892520323395729), ('stay', 0.008836844004690647), ('abl', 0.007688168901950121), ('make', 0.007423089817166328), ('even', 0.007334730587899685), ('great', 0.007334730587899685), ('without', 0.006892932578921318), ('tire', 0.006804572883993387), ('still', 0.0066278534941375256)] \n",
      "\n",
      "[('pain', 0.10278297960758209), ('back', 0.02347102016210556), ('work', 0.01769026555120945), ('sever', 0.016418498009443283), ('medicin', 0.015956038609147072), ('help', 0.012718817219138145), ('patch', 0.012371971271932125), ('doctor', 0.012256355956196785), ('use', 0.010984590277075768), ('surgeri', 0.010868974961340427), ('hour', 0.00971282459795475), ('relief', 0.008672288618981838), ('chronic', 0.008556673303246498), ('time', 0.008441057987511158), ('well', 0.007747367490082979), ('dose', 0.007631752640008926), ('medic', 0.007631752640008926), ('everi', 0.007516137324273586), ('leg', 0.007284906692802906), ('put', 0.007053676526993513), ('given', 0.007053676526993513), ('also', 0.00682244636118412), ('still', 0.006706831511110067), ('prescrib', 0.0064756013453006744), ('lower', 0.0062443711794912815), ('need', 0.006128755863755941), ('took', 0.0056662955321371555), ('left', 0.00531945051625371), ('gave', 0.00531945051625371), ('med', 0.00531945051625371)] \n",
      "\n",
      "[('pill', 0.05633208528161049), ('control', 0.041109029203653336), ('birth', 0.03482258319854736), ('acn', 0.01812036707997322), ('first', 0.017812207341194153), ('switch', 0.016641203314065933), ('tri', 0.012758399359881878), ('cramp', 0.012511871755123138), ('differ', 0.011833922006189823), ('time', 0.01171065866947174), ('would', 0.011340867727994919), ('mood', 0.010662917979061604), ('breast', 0.009615177288651466), ('swing', 0.009183754213154316), ('nausea', 0.009122123010456562), ('gain', 0.00875233206897974), ('experi', 0.008629067800939083), ('side', 0.00856743659824133), ('experienc', 0.008259277790784836), ('never', 0.008074382320046425), ('like', 0.007889486849308014), ('one', 0.0077662235125899315), ('recommend', 0.0075813280418515205), ('realli', 0.007519696373492479), ('emot', 0.007273169234395027), ('weight', 0.007211537100374699), ('clear', 0.007149905432015657), ('use', 0.007149905432015657), ('problem', 0.007088273763656616), ('skin', 0.0069650099612772465)] \n",
      "\n",
      "[('gain', 0.032935433089733124), ('weight', 0.030127868056297302), ('sex', 0.022892989218235016), ('got', 0.016252020373940468), ('mood', 0.016090044751763344), ('drive', 0.016036054119467735), ('pill', 0.01549613755196333), ('first', 0.01549613755196333), ('side', 0.01393038034439087), ('time', 0.012418613769114017), ('sinc', 0.012364622205495834), ('also', 0.011662730947136879), ('use', 0.011284789070487022), ('control', 0.01106882281601429), ('swing', 0.010960839688777924), ('alway', 0.010636890307068825), ('love', 0.010582898743450642), ('bleed', 0.010420923121273518), ('everi', 0.009881007485091686), ('never', 0.009287099353969097), ('great', 0.008855165913701057), ('last', 0.008693191222846508), ('littl', 0.008315250277519226), ('almost', 0.008315250277519226), ('pregnant', 0.007883316837251186), ('spot', 0.007829325273633003), ('constant', 0.007829325273633003), ('implanon', 0.007613359019160271), ('like', 0.007451383862644434), ('even', 0.007451383862644434)] \n",
      "\n",
      "[('like', 0.026309840381145477), ('doctor', 0.021255549043416977), ('would', 0.014486409723758698), ('quot', 0.013764368370175362), ('felt', 0.01358385756611824), ('bad', 0.012816688977181911), ('want', 0.012455668300390244), ('time', 0.012320284731686115), ('never', 0.011733626015484333), ('thing', 0.011733626015484333), ('one', 0.01105671189725399), ('know', 0.010695691220462322), ('go', 0.010334670543670654), ('went', 0.0101992879062891), ('tri', 0.009928521700203419), ('thought', 0.00947724562138319), ('realli', 0.00907109770923853), ('right', 0.008710077032446861), ('got', 0.008349056355655193), ('even', 0.008033162914216518), ('told', 0.007942907512187958), ('long', 0.007762397173792124), ('experi', 0.00762701453641057), ('anyth', 0.0074916318990290165), ('read', 0.007175738457590342), ('made', 0.0071306112222373486), ('ever', 0.006950100418180227), ('could', 0.006814717780798674), ('much', 0.006453697104007006), ('work', 0.006182931363582611)] \n",
      "\n",
      "[('work', 0.028635555878281593), ('side', 0.018124034628272057), ('hope', 0.017906554043293), ('tri', 0.01768907532095909), ('back', 0.017616581171751022), ('better', 0.017399102449417114), ('first', 0.017181621864438057), ('stop', 0.015441784635186195), ('differ', 0.015369291417300701), ('time', 0.014281893149018288), ('one', 0.014064413495361805), ('life', 0.013411973603069782), ('happi', 0.0131944939494133), ('like', 0.012469561770558357), ('depress', 0.012397068552672863), ('seem', 0.01167213637381792), ('help', 0.011527149938046932), ('great', 0.011164683848619461), ('good', 0.010657230392098427), ('chang', 0.00985980499535799), ('notic', 0.009497338905930519), ('felt', 0.008917393162846565), ('go', 0.008844899944961071), ('much', 0.008627420291304588), ('mani', 0.0084824338555336), ('old', 0.007612515240907669), ('peopl', 0.007395035587251186), ('two', 0.007177555933594704), ('well', 0.007032569497823715), ('think', 0.006670102942734957)] \n",
      "\n",
      "[('weight', 0.04095662757754326), ('eat', 0.03961234912276268), ('lbs', 0.03432484716176987), ('lost', 0.03047124296426773), ('pound', 0.025183742865920067), ('lose', 0.01640111207962036), ('side', 0.016221873462200165), ('exercis', 0.013981407508254051), ('appetit', 0.013264458626508713), ('pill', 0.012278652749955654), ('diet', 0.012099415995180607), ('weigh', 0.011920178309082985), ('food', 0.01165132224559784), ('drink', 0.011561703868210316), ('mouth', 0.011203229427337646), ('work', 0.010755136609077454), ('water', 0.010307042859494686), ('first', 0.010127806104719639), ('loss', 0.00950047466903925), ('much', 0.00914200022816658), ('dri', 0.00824581366032362), ('crave', 0.008156195282936096), ('gain', 0.008066575974225998), ('headach', 0.00788733921945095), ('lot', 0.007618483155965805), ('time', 0.007528864312916994), ('hungri', 0.007439245469868183), ('quot', 0.0073496270924806595), ('energi', 0.007170389872044325), ('healthi', 0.007170389872044325)] \n",
      "\n",
      "[('acn', 0.04075660929083824), ('skin', 0.035688020288944244), ('use', 0.028240302577614784), ('face', 0.023688917979598045), ('clear', 0.018930653110146523), ('work', 0.015517114661633968), ('dri', 0.014586149714887142), ('tri', 0.011379494331777096), ('adhd', 0.010345088317990303), ('also', 0.00993132684379816), ('focus', 0.009827885776758194), ('cystic', 0.009414123371243477), ('school', 0.009414123371243477), ('see', 0.009000361897051334), ('product', 0.00869003962725401), ('pimpl', 0.008586599491536617), ('adderal', 0.00848315842449665), ('lot', 0.0081728370860219), ('help', 0.008069396950304508), ('old', 0.008069396950304508), ('prescrib', 0.007655634544789791), ('breakout', 0.007345312740653753), ('sinc', 0.007345312740653753), ('result', 0.007345312740653753), ('medic', 0.007034991402179003), ('accutan', 0.007034991402179003), ('red', 0.0069315508008003235), ('vyvans', 0.006724669598042965), ('first', 0.006621228996664286), ('around', 0.006414347793906927)] \n",
      "\n"
     ]
    }
   ],
   "source": [
    "for i in range(10):\n",
    "    print(slda.get_topic_words(i, 30), \"\\n\")"
   ]
  }
 ],
 "metadata": {
  "kernelspec": {
   "display_name": "Python 3",
   "language": "python",
   "name": "python3"
  },
  "language_info": {
   "codemirror_mode": {
    "name": "ipython",
    "version": 3
   },
   "file_extension": ".py",
   "mimetype": "text/x-python",
   "name": "python",
   "nbconvert_exporter": "python",
   "pygments_lexer": "ipython3",
   "version": "3.7.4"
  }
 },
 "nbformat": 4,
 "nbformat_minor": 5
}
