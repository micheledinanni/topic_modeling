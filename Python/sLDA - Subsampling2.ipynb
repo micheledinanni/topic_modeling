{
 "cells": [
  {
   "cell_type": "code",
   "execution_count": 1,
   "metadata": {},
   "outputs": [],
   "source": [
    "import tomotopy as tp\n",
    "import pandas as pd"
   ]
  },
  {
   "cell_type": "code",
   "execution_count": 2,
   "metadata": {},
   "outputs": [],
   "source": [
    "import nltk\n",
    "from time import time\n",
    "#nltk.download('punkt')\n",
    "from nltk import word_tokenize \n",
    "from nltk.corpus import stopwords\n",
    "#nltk.download('stopwords')\n",
    "#nltk.download('words')\n",
    "from nltk.stem.snowball import SnowballStemmer\n",
    "from sklearn.feature_extraction.text import CountVectorizer\n",
    "from sklearn.metrics import r2_score"
   ]
  },
  {
   "cell_type": "markdown",
   "metadata": {},
   "source": [
    "## Caricamento del dataset"
   ]
  },
  {
   "cell_type": "code",
   "execution_count": 29,
   "metadata": {},
   "outputs": [
    {
     "data": {
      "text/html": [
       "<div>\n",
       "<style scoped>\n",
       "    .dataframe tbody tr th:only-of-type {\n",
       "        vertical-align: middle;\n",
       "    }\n",
       "\n",
       "    .dataframe tbody tr th {\n",
       "        vertical-align: top;\n",
       "    }\n",
       "\n",
       "    .dataframe thead th {\n",
       "        text-align: right;\n",
       "    }\n",
       "</style>\n",
       "<table border=\"1\" class=\"dataframe\">\n",
       "  <thead>\n",
       "    <tr style=\"text-align: right;\">\n",
       "      <th></th>\n",
       "      <th>uniqueID</th>\n",
       "      <th>drugName</th>\n",
       "      <th>condition</th>\n",
       "      <th>review</th>\n",
       "      <th>rating</th>\n",
       "      <th>date</th>\n",
       "      <th>usefulCount</th>\n",
       "    </tr>\n",
       "  </thead>\n",
       "  <tbody>\n",
       "    <tr>\n",
       "      <th>0</th>\n",
       "      <td>163740</td>\n",
       "      <td>Mirtazapine</td>\n",
       "      <td>Depression</td>\n",
       "      <td>\"I&amp;#039;ve tried a few antidepressants over th...</td>\n",
       "      <td>10</td>\n",
       "      <td>28-Feb-12</td>\n",
       "      <td>22</td>\n",
       "    </tr>\n",
       "    <tr>\n",
       "      <th>1</th>\n",
       "      <td>206473</td>\n",
       "      <td>Mesalamine</td>\n",
       "      <td>Crohn's Disease, Maintenance</td>\n",
       "      <td>\"My son has Crohn&amp;#039;s disease and has done ...</td>\n",
       "      <td>8</td>\n",
       "      <td>17-May-09</td>\n",
       "      <td>17</td>\n",
       "    </tr>\n",
       "    <tr>\n",
       "      <th>2</th>\n",
       "      <td>159672</td>\n",
       "      <td>Bactrim</td>\n",
       "      <td>Urinary Tract Infection</td>\n",
       "      <td>\"Quick reduction of symptoms\"</td>\n",
       "      <td>9</td>\n",
       "      <td>29-Sep-17</td>\n",
       "      <td>3</td>\n",
       "    </tr>\n",
       "    <tr>\n",
       "      <th>3</th>\n",
       "      <td>39293</td>\n",
       "      <td>Contrave</td>\n",
       "      <td>Weight Loss</td>\n",
       "      <td>\"Contrave combines drugs that were used for al...</td>\n",
       "      <td>9</td>\n",
       "      <td>5-Mar-17</td>\n",
       "      <td>35</td>\n",
       "    </tr>\n",
       "    <tr>\n",
       "      <th>4</th>\n",
       "      <td>97768</td>\n",
       "      <td>Cyclafem 1 / 35</td>\n",
       "      <td>Birth Control</td>\n",
       "      <td>\"I have been on this birth control for one cyc...</td>\n",
       "      <td>9</td>\n",
       "      <td>22-Oct-15</td>\n",
       "      <td>4</td>\n",
       "    </tr>\n",
       "  </tbody>\n",
       "</table>\n",
       "</div>"
      ],
      "text/plain": [
       "   uniqueID         drugName                     condition  \\\n",
       "0    163740      Mirtazapine                    Depression   \n",
       "1    206473       Mesalamine  Crohn's Disease, Maintenance   \n",
       "2    159672          Bactrim       Urinary Tract Infection   \n",
       "3     39293         Contrave                   Weight Loss   \n",
       "4     97768  Cyclafem 1 / 35                 Birth Control   \n",
       "\n",
       "                                              review  rating       date  \\\n",
       "0  \"I&#039;ve tried a few antidepressants over th...      10  28-Feb-12   \n",
       "1  \"My son has Crohn&#039;s disease and has done ...       8  17-May-09   \n",
       "2                      \"Quick reduction of symptoms\"       9  29-Sep-17   \n",
       "3  \"Contrave combines drugs that were used for al...       9   5-Mar-17   \n",
       "4  \"I have been on this birth control for one cyc...       9  22-Oct-15   \n",
       "\n",
       "   usefulCount  \n",
       "0           22  \n",
       "1           17  \n",
       "2            3  \n",
       "3           35  \n",
       "4            4  "
      ]
     },
     "execution_count": 29,
     "metadata": {},
     "output_type": "execute_result"
    }
   ],
   "source": [
    "data_1 = pd.read_csv('C:/Users/micky/OneDrive/Desktop/Tesi DS/data/drugsComTest_raw.csv')\n",
    "data_2 = pd.read_csv('C:/Users/micky/OneDrive/Desktop/Tesi DS/data/drugsComTrain_raw.csv')\n",
    "data_1.head()"
   ]
  },
  {
   "cell_type": "code",
   "execution_count": 30,
   "metadata": {},
   "outputs": [],
   "source": [
    "data = pd.concat([data_1,data_2])[['review','condition']]"
   ]
  },
  {
   "cell_type": "code",
   "execution_count": 31,
   "metadata": {},
   "outputs": [
    {
     "name": "stdout",
     "output_type": "stream",
     "text": [
      "Shape of the dataset:  (215063, 2)\n"
     ]
    }
   ],
   "source": [
    "print(\"Shape of the dataset: \", data.shape)"
   ]
  },
  {
   "cell_type": "code",
   "execution_count": 32,
   "metadata": {},
   "outputs": [
    {
     "data": {
      "text/plain": [
       "(10753, 2)"
      ]
     },
     "execution_count": 32,
     "metadata": {},
     "output_type": "execute_result"
    }
   ],
   "source": [
    "# sample 5% - create dataset Subsampling-1\n",
    "data = data.sample(frac=.05, random_state=9, replace=False)\n",
    "data.shape"
   ]
  },
  {
   "cell_type": "code",
   "execution_count": 33,
   "metadata": {},
   "outputs": [
    {
     "data": {
      "text/plain": [
       "(2151, 2)"
      ]
     },
     "execution_count": 33,
     "metadata": {},
     "output_type": "execute_result"
    }
   ],
   "source": [
    "# sample 20% - create dataset Subsampling-2\n",
    "data = data.sample(frac=.2, random_state=9, replace=False)\n",
    "data.shape"
   ]
  },
  {
   "cell_type": "code",
   "execution_count": 34,
   "metadata": {},
   "outputs": [],
   "source": [
    "data = data[pd.notnull(data['review'])]"
   ]
  },
  {
   "cell_type": "code",
   "execution_count": 35,
   "metadata": {},
   "outputs": [
    {
     "data": {
      "text/html": [
       "<div>\n",
       "<style scoped>\n",
       "    .dataframe tbody tr th:only-of-type {\n",
       "        vertical-align: middle;\n",
       "    }\n",
       "\n",
       "    .dataframe tbody tr th {\n",
       "        vertical-align: top;\n",
       "    }\n",
       "\n",
       "    .dataframe thead th {\n",
       "        text-align: right;\n",
       "    }\n",
       "</style>\n",
       "<table border=\"1\" class=\"dataframe\">\n",
       "  <thead>\n",
       "    <tr style=\"text-align: right;\">\n",
       "      <th></th>\n",
       "      <th>condition</th>\n",
       "      <th>review</th>\n",
       "    </tr>\n",
       "  </thead>\n",
       "  <tbody>\n",
       "    <tr>\n",
       "      <th>39</th>\n",
       "      <td>Birth Control</td>\n",
       "      <td>373</td>\n",
       "    </tr>\n",
       "    <tr>\n",
       "      <th>76</th>\n",
       "      <td>Depression</td>\n",
       "      <td>145</td>\n",
       "    </tr>\n",
       "    <tr>\n",
       "      <th>178</th>\n",
       "      <td>Pain</td>\n",
       "      <td>85</td>\n",
       "    </tr>\n",
       "    <tr>\n",
       "      <th>21</th>\n",
       "      <td>Anxiety</td>\n",
       "      <td>79</td>\n",
       "    </tr>\n",
       "    <tr>\n",
       "      <th>8</th>\n",
       "      <td>Acne</td>\n",
       "      <td>69</td>\n",
       "    </tr>\n",
       "  </tbody>\n",
       "</table>\n",
       "</div>"
      ],
      "text/plain": [
       "         condition  review\n",
       "39   Birth Control     373\n",
       "76      Depression     145\n",
       "178           Pain      85\n",
       "21         Anxiety      79\n",
       "8             Acne      69"
      ]
     },
     "execution_count": 35,
     "metadata": {},
     "output_type": "execute_result"
    }
   ],
   "source": [
    "count_df = data[['condition', 'review']].groupby('condition').aggregate({\n",
    "    'review': 'count'\n",
    "}).reset_index().sort_values('review', ascending=False)\n",
    "count_df.head()"
   ]
  },
  {
   "cell_type": "code",
   "execution_count": 46,
   "metadata": {},
   "outputs": [
    {
     "data": {
      "text/plain": [
       "array(['Birth Control', 'Depression', 'Pain', 'Anxiety', 'Acne',\n",
       "       'Weight Loss', 'ADHD', 'Insomnia', 'Bipolar Disorde', 'Obesity',\n",
       "       'Diabetes, Type 2'], dtype=object)"
      ]
     },
     "execution_count": 46,
     "metadata": {},
     "output_type": "execute_result"
    }
   ],
   "source": [
    "target_conditions = count_df[count_df['review']>40]['condition'].values\n",
    "target_conditions"
   ]
  },
  {
   "cell_type": "code",
   "execution_count": 47,
   "metadata": {},
   "outputs": [
    {
     "data": {
      "text/plain": [
       "11"
      ]
     },
     "execution_count": 47,
     "metadata": {},
     "output_type": "execute_result"
    }
   ],
   "source": [
    "len(target_conditions)"
   ]
  },
  {
   "cell_type": "code",
   "execution_count": 48,
   "metadata": {},
   "outputs": [],
   "source": [
    "data = data[data['condition'].apply(lambda x: True if x in target_conditions else False)]"
   ]
  },
  {
   "cell_type": "code",
   "execution_count": 49,
   "metadata": {},
   "outputs": [
    {
     "data": {
      "text/plain": [
       "(1062, 2)"
      ]
     },
     "execution_count": 49,
     "metadata": {},
     "output_type": "execute_result"
    }
   ],
   "source": [
    "data.shape #new shape"
   ]
  },
  {
   "cell_type": "code",
   "execution_count": 50,
   "metadata": {},
   "outputs": [],
   "source": [
    "from sklearn.preprocessing import LabelEncoder\n",
    "\n",
    "le = LabelEncoder()\n",
    "data['condition'] = le.fit_transform(data['condition'])"
   ]
  },
  {
   "cell_type": "code",
   "execution_count": 51,
   "metadata": {},
   "outputs": [
    {
     "data": {
      "text/plain": [
       "array([ 4,  3, 10,  1,  5,  2,  8,  9,  7,  0,  6])"
      ]
     },
     "execution_count": 51,
     "metadata": {},
     "output_type": "execute_result"
    }
   ],
   "source": [
    "data.condition.unique()"
   ]
  },
  {
   "cell_type": "markdown",
   "metadata": {},
   "source": [
    "Conversione in minuscolo"
   ]
  },
  {
   "cell_type": "code",
   "execution_count": 52,
   "metadata": {},
   "outputs": [],
   "source": [
    "data['review'] = data['review'].str.lower()"
   ]
  },
  {
   "cell_type": "markdown",
   "metadata": {},
   "source": [
    "Rimozione numeri"
   ]
  },
  {
   "cell_type": "code",
   "execution_count": 53,
   "metadata": {},
   "outputs": [],
   "source": [
    "data['review'] = data['review'].str.replace(r'[0-9]+', ' ', regex=True)"
   ]
  },
  {
   "cell_type": "markdown",
   "metadata": {},
   "source": [
    "Rimozione link"
   ]
  },
  {
   "cell_type": "code",
   "execution_count": 54,
   "metadata": {},
   "outputs": [],
   "source": [
    "data['review'] = data['review'].str.replace(r'http\\S+', ' ', regex=True)"
   ]
  },
  {
   "cell_type": "markdown",
   "metadata": {},
   "source": [
    "Rimozione punteggiatura"
   ]
  },
  {
   "cell_type": "code",
   "execution_count": 55,
   "metadata": {},
   "outputs": [],
   "source": [
    "data['review'] = data['review'].str.replace(r'[^\\w\\s]', ' ', regex=True)"
   ]
  },
  {
   "cell_type": "markdown",
   "metadata": {},
   "source": [
    "Rimozione caratteri speciali tranne le lettere"
   ]
  },
  {
   "cell_type": "code",
   "execution_count": 56,
   "metadata": {},
   "outputs": [],
   "source": [
    "data['review'] = data['review'].str.replace(r'[^a-zA-Z0-9 ]', ' ', regex=True)"
   ]
  },
  {
   "cell_type": "markdown",
   "metadata": {},
   "source": [
    "Rimozione lettere singole e doppie"
   ]
  },
  {
   "cell_type": "code",
   "execution_count": 57,
   "metadata": {},
   "outputs": [],
   "source": [
    "data['review'] = data['review'].str.replace('\\\\b\\\\w{1,2}\\\\b', '', regex=True)"
   ]
  },
  {
   "cell_type": "markdown",
   "metadata": {},
   "source": [
    "Rimozione spazi extra"
   ]
  },
  {
   "cell_type": "code",
   "execution_count": 58,
   "metadata": {},
   "outputs": [],
   "source": [
    "data['review'] = data['review'].str.replace(' +', ' ', regex=True)"
   ]
  },
  {
   "cell_type": "code",
   "execution_count": 59,
   "metadata": {},
   "outputs": [
    {
     "data": {
      "text/plain": [
       "145347     been taking this pill for almost weeks now fa...\n",
       "85009      per day and honestly really dont know how muc...\n",
       "97741      always research before putting anything your ...\n",
       "131457     can really say that was nervous starting this...\n",
       "110005     impossible keep weight off been period for mo...\n",
       "                                ...                        \n",
       "38976      been pristiq for week and already feel like n...\n",
       "5048       tears joy omg thank you all started tramadol ...\n",
       "116557     has done its job not pregnant have had since ...\n",
       "60135      have had the implanon for almost year and lov...\n",
       "153628     had panic attack and doctor diagnosed with ga...\n",
       "Name: review, Length: 1062, dtype: object"
      ]
     },
     "execution_count": 59,
     "metadata": {},
     "output_type": "execute_result"
    }
   ],
   "source": [
    "data['review']"
   ]
  },
  {
   "cell_type": "markdown",
   "metadata": {},
   "source": [
    "Rimozione stopwords"
   ]
  },
  {
   "cell_type": "code",
   "execution_count": 60,
   "metadata": {},
   "outputs": [],
   "source": [
    "stop = stopwords.words('english')\n",
    "data['review'] = data['review'].apply(lambda x: [item for item in str(x).split() if item not in stop])"
   ]
  },
  {
   "cell_type": "markdown",
   "metadata": {},
   "source": [
    "Stemming"
   ]
  },
  {
   "cell_type": "code",
   "execution_count": 61,
   "metadata": {},
   "outputs": [
    {
     "data": {
      "text/plain": [
       "145347    [take, pill, almost, week, far, noth, bad, thi...\n",
       "85009     [per, day, honest, realli, dont, know, much, h...\n",
       "97741     [alway, research, put, anyth, bodi, doctor, sa...\n",
       "131457    [realli, say, nervous, start, pill, read, revi...\n",
       "110005    [imposs, keep, weight, period, month, dri, ski...\n",
       "                                ...                        \n",
       "38976     [pristiq, week, alreadi, feel, like, new, pers...\n",
       "5048      [tear, joy, omg, thank, start, tramadol, back,...\n",
       "116557    [done, job, pregnant, sinc, jan, period, spora...\n",
       "60135     [implanon, almost, year, love, random, period,...\n",
       "153628    [panic, attack, doctor, diagnos, gad, general,...\n",
       "Name: review, Length: 1062, dtype: object"
      ]
     },
     "execution_count": 61,
     "metadata": {},
     "output_type": "execute_result"
    }
   ],
   "source": [
    "stemmer = SnowballStemmer(\"english\")\n",
    "data['review'] = data['review'].apply(lambda x: [stemmer.stem(y) for y in x])\n",
    "data['review']"
   ]
  },
  {
   "cell_type": "markdown",
   "metadata": {},
   "source": [
    "Rimozione eventuali documenti vuoti"
   ]
  },
  {
   "cell_type": "code",
   "execution_count": 62,
   "metadata": {},
   "outputs": [],
   "source": [
    "data = data[data['review'].map(len) != 0]"
   ]
  },
  {
   "cell_type": "code",
   "execution_count": 63,
   "metadata": {},
   "outputs": [
    {
     "data": {
      "text/plain": [
       "(1062, 2)"
      ]
     },
     "execution_count": 63,
     "metadata": {},
     "output_type": "execute_result"
    }
   ],
   "source": [
    "data.shape"
   ]
  },
  {
   "cell_type": "markdown",
   "metadata": {},
   "source": [
    "### Train-test split"
   ]
  },
  {
   "cell_type": "code",
   "execution_count": 64,
   "metadata": {},
   "outputs": [],
   "source": [
    "from sklearn.model_selection import train_test_split"
   ]
  },
  {
   "cell_type": "code",
   "execution_count": 65,
   "metadata": {},
   "outputs": [
    {
     "data": {
      "text/html": [
       "<div>\n",
       "<style scoped>\n",
       "    .dataframe tbody tr th:only-of-type {\n",
       "        vertical-align: middle;\n",
       "    }\n",
       "\n",
       "    .dataframe tbody tr th {\n",
       "        vertical-align: top;\n",
       "    }\n",
       "\n",
       "    .dataframe thead th {\n",
       "        text-align: right;\n",
       "    }\n",
       "</style>\n",
       "<table border=\"1\" class=\"dataframe\">\n",
       "  <thead>\n",
       "    <tr style=\"text-align: right;\">\n",
       "      <th></th>\n",
       "      <th>review</th>\n",
       "      <th>condition</th>\n",
       "    </tr>\n",
       "  </thead>\n",
       "  <tbody>\n",
       "    <tr>\n",
       "      <th>145347</th>\n",
       "      <td>[take, pill, almost, week, far, noth, bad, thi...</td>\n",
       "      <td>4</td>\n",
       "    </tr>\n",
       "    <tr>\n",
       "      <th>85009</th>\n",
       "      <td>[per, day, honest, realli, dont, know, much, h...</td>\n",
       "      <td>3</td>\n",
       "    </tr>\n",
       "    <tr>\n",
       "      <th>97741</th>\n",
       "      <td>[alway, research, put, anyth, bodi, doctor, sa...</td>\n",
       "      <td>4</td>\n",
       "    </tr>\n",
       "    <tr>\n",
       "      <th>131457</th>\n",
       "      <td>[realli, say, nervous, start, pill, read, revi...</td>\n",
       "      <td>10</td>\n",
       "    </tr>\n",
       "    <tr>\n",
       "      <th>110005</th>\n",
       "      <td>[imposs, keep, weight, period, month, dri, ski...</td>\n",
       "      <td>4</td>\n",
       "    </tr>\n",
       "  </tbody>\n",
       "</table>\n",
       "</div>"
      ],
      "text/plain": [
       "                                                   review  condition\n",
       "145347  [take, pill, almost, week, far, noth, bad, thi...          4\n",
       "85009   [per, day, honest, realli, dont, know, much, h...          3\n",
       "97741   [alway, research, put, anyth, bodi, doctor, sa...          4\n",
       "131457  [realli, say, nervous, start, pill, read, revi...         10\n",
       "110005  [imposs, keep, weight, period, month, dri, ski...          4"
      ]
     },
     "execution_count": 65,
     "metadata": {},
     "output_type": "execute_result"
    }
   ],
   "source": [
    "data.head()"
   ]
  },
  {
   "cell_type": "code",
   "execution_count": 66,
   "metadata": {},
   "outputs": [],
   "source": [
    "#train-test split 80%-20%\n",
    "X_train, X_test, y_train, y_test = train_test_split(data['review'],\n",
    "                                                    data['condition'],\n",
    "                                                    test_size=0.2,\n",
    "                                                    random_state=1234)"
   ]
  },
  {
   "cell_type": "code",
   "execution_count": 69,
   "metadata": {},
   "outputs": [
    {
     "name": "stdout",
     "output_type": "stream",
     "text": [
      "Num docs:849, Num Vocabs:1361, Total Words:28435\n",
      "Removed Top words:  take month day year effect week get feel period start\n"
     ]
    }
   ],
   "source": [
    "slda = tp.SLDAModel(k=10, vars=['l'], seed=1234, rm_top=10, min_df=3, alpha=.1)\n",
    "\n",
    "for document, rating in zip(X_train, y_train):\n",
    "    slda.add_doc(document, [rating])\n",
    "\n",
    "slda.burn_in = 10\n",
    "slda.train(0)\n",
    "\n",
    "print('Num docs:{}, Num Vocabs:{}, Total Words:{}'.format(\n",
    "    len(slda.docs), len(slda.used_vocabs), slda.num_words))\n",
    "print('Removed Top words: ', *slda.removed_top_words)"
   ]
  },
  {
   "cell_type": "code",
   "execution_count": 70,
   "metadata": {},
   "outputs": [
    {
     "name": "stdout",
     "output_type": "stream",
     "text": [
      "done in 0.395s.\n"
     ]
    }
   ],
   "source": [
    "t0 = time()\n",
    "slda.train(100)\n",
    "print(\"done in %0.3fs.\" % (time() - t0))"
   ]
  },
  {
   "cell_type": "code",
   "execution_count": 71,
   "metadata": {},
   "outputs": [
    {
     "name": "stdout",
     "output_type": "stream",
     "text": [
      "R2 score sul test set per k=10: 0.3204473245446223\n"
     ]
    }
   ],
   "source": [
    "yhat = []\n",
    "for document in X_test:\n",
    "    doc = slda.make_doc(document)\n",
    "    slda.infer(doc)\n",
    "    yhat.append(slda.estimate(doc)[0])\n",
    "rsq = r2_score(y_test, yhat)\n",
    "print('R2 score sul test set per k={}: {}'.format(slda.k, rsq))"
   ]
  },
  {
   "cell_type": "code",
   "execution_count": 72,
   "metadata": {},
   "outputs": [
    {
     "name": "stdout",
     "output_type": "stream",
     "text": [
      "[('pill', 0.07518204301595688), ('control', 0.05325477197766304), ('gain', 0.044142141938209534), ('birth', 0.04214875400066376), ('first', 0.03844675049185753), ('weight', 0.0358838252723217), ('would', 0.024777809157967567), ('swing', 0.02335396036505699), ('mood', 0.023069189861416817), ('use', 0.02164534293115139), ('even', 0.015949947759509087), ('switch', 0.014526099897921085), ('sex', 0.014241330325603485), ('back', 0.013956560753285885), ('good', 0.01367179024964571), ('headach', 0.01338702067732811), ('well', 0.01281748153269291), ('almost', 0.012247942388057709), ('love', 0.011678403243422508), ('drive', 0.011678403243422508), ('breast', 0.011108864098787308), ('extrem', 0.010824094526469707), ('regular', 0.010254554450511932), ('someth', 0.009969784878194332), ('definit', 0.009969784878194332), ('alway', 0.009685015305876732), ('actual', 0.009400245733559132), ('acn', 0.009115476161241531), ('worri', 0.009115476161241531), ('emot', 0.008545937016606331)] \n",
      "\n",
      "[('pain', 0.04301222041249275), ('lbs', 0.028768841177225113), ('eat', 0.02793099544942379), ('lost', 0.024021046236157417), ('work', 0.01927325315773487), ('weight', 0.018156124278903008), ('hour', 0.018156124278903008), ('pound', 0.012570482678711414), ('last', 0.012570482678711414), ('first', 0.012011919170618057), ('doctor', 0.011732636950910091), ('help', 0.011453354731202126), ('headach', 0.010336226783692837), ('chang', 0.010056944563984871), ('mouth', 0.00977766327559948), ('prescrib', 0.00977766327559948), ('food', 0.00977766327559948), ('result', 0.00977766327559948), ('water', 0.009498381055891514), ('side', 0.009219098836183548), ('tri', 0.009219098836183548), ('drink', 0.008939816616475582), ('good', 0.008939816616475582), ('use', 0.008381253108382225), ('exercis', 0.008381253108382225), ('sleep', 0.00810197088867426), ('back', 0.00810197088867426), ('full', 0.00810197088867426), ('also', 0.00810197088867426), ('weigh', 0.007822689600288868)] \n",
      "\n",
      "[('depress', 0.03565369173884392), ('work', 0.03374384343624115), ('side', 0.028650915250182152), ('help', 0.028332605957984924), ('still', 0.024831216782331467), ('dose', 0.023557985201478004), ('quot', 0.0229213684797287), ('caus', 0.021648135036230087), ('sever', 0.020693210884928703), ('back', 0.01973828673362732), ('medic', 0.018783360719680786), ('medicin', 0.01814674586057663), ('stop', 0.016873512417078018), ('felt', 0.015918588265776634), ('normal', 0.015600279904901981), ('give', 0.015281972475349903), ('life', 0.014327047392725945), ('low', 0.013690431602299213), ('thought', 0.012417199090123177), ('much', 0.012098890729248524), ('anxieti', 0.012098890729248524), ('ago', 0.011780583299696445), ('need', 0.011462274938821793), ('gone', 0.01114396657794714), ('wonder', 0.01114396657794714), ('bit', 0.010825658217072487), ('increas', 0.010507350787520409), ('insomnia', 0.010189042426645756), ('better', 0.010189042426645756), ('dizzi', 0.009870734997093678)] \n",
      "\n",
      "[('sleep', 0.03328690677881241), ('night', 0.029409198090434074), ('time', 0.027793485671281815), ('life', 0.02682405896484852), ('medicin', 0.026177773252129555), ('work', 0.024562060832977295), ('drug', 0.022946348413825035), ('tri', 0.021007493138313293), ('less', 0.018422352150082588), ('suffer', 0.01680663973093033), ('stay', 0.014867785386741161), ('good', 0.014221500605344772), ('lot', 0.014221500605344772), ('say', 0.013575214892625809), ('med', 0.013252072967588902), ('without', 0.01292893011122942), ('like', 0.01292893011122942), ('would', 0.01292893011122942), ('morn', 0.01292893011122942), ('taken', 0.011636360548436642), ('medic', 0.01131321769207716), ('tire', 0.01131321769207716), ('need', 0.01131321769207716), ('mani', 0.010990075767040253), ('level', 0.010666932910680771), ('make', 0.010343790054321289), ('lower', 0.010020648129284382), ('hour', 0.008081793785095215), ('wake', 0.0074355085380375385), ('use', 0.0074355085380375385)] \n",
      "\n"
     ]
    }
   ],
   "source": [
    "for i in range(4):\n",
    "    print(slda.get_topic_words(i, 30), \"\\n\")"
   ]
  }
 ],
 "metadata": {
  "kernelspec": {
   "display_name": "Python 3",
   "language": "python",
   "name": "python3"
  },
  "language_info": {
   "codemirror_mode": {
    "name": "ipython",
    "version": 3
   },
   "file_extension": ".py",
   "mimetype": "text/x-python",
   "name": "python",
   "nbconvert_exporter": "python",
   "pygments_lexer": "ipython3",
   "version": "3.7.4"
  }
 },
 "nbformat": 4,
 "nbformat_minor": 5
}
