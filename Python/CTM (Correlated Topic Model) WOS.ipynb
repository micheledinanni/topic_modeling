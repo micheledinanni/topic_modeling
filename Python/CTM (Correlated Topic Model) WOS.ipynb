{
 "cells": [
  {
   "cell_type": "markdown",
   "metadata": {},
   "source": [
    "# Correlated Topic Model (CTM) on Web Of Science dataset "
   ]
  },
  {
   "cell_type": "code",
   "execution_count": 86,
   "metadata": {},
   "outputs": [],
   "source": [
    "# import libraries\n",
    "import pandas as pd\n",
    "from time import time\n",
    "import nltk\n",
    "#nltk.download('punkt')\n",
    "from nltk import word_tokenize \n",
    "from nltk.corpus import stopwords\n",
    "#nltk.download('stopwords')\n",
    "#nltk.download('words')\n",
    "from nltk.stem.snowball import SnowballStemmer\n",
    "from sklearn.feature_extraction.text import CountVectorizer\n",
    "from pyvis.network import Network\n",
    "import matplotlib.pyplot as plt \n",
    "import tomotopy as tp"
   ]
  },
  {
   "cell_type": "code",
   "execution_count": 87,
   "metadata": {},
   "outputs": [],
   "source": [
    "import warnings\n",
    "warnings.filterwarnings('ignore')"
   ]
  },
  {
   "cell_type": "code",
   "execution_count": 88,
   "metadata": {},
   "outputs": [],
   "source": [
    "data = pd.read_excel('C:/Users/micky/OneDrive/Desktop/Tesi DS/data/wos_data.xlsx')"
   ]
  },
  {
   "cell_type": "code",
   "execution_count": 89,
   "metadata": {},
   "outputs": [
    {
     "data": {
      "text/plain": [
       "(46985, 7)"
      ]
     },
     "execution_count": 89,
     "metadata": {},
     "output_type": "execute_result"
    }
   ],
   "source": [
    "data.shape"
   ]
  },
  {
   "cell_type": "code",
   "execution_count": 90,
   "metadata": {},
   "outputs": [
    {
     "data": {
      "text/html": [
       "<div>\n",
       "<style scoped>\n",
       "    .dataframe tbody tr th:only-of-type {\n",
       "        vertical-align: middle;\n",
       "    }\n",
       "\n",
       "    .dataframe tbody tr th {\n",
       "        vertical-align: top;\n",
       "    }\n",
       "\n",
       "    .dataframe thead th {\n",
       "        text-align: right;\n",
       "    }\n",
       "</style>\n",
       "<table border=\"1\" class=\"dataframe\">\n",
       "  <thead>\n",
       "    <tr style=\"text-align: right;\">\n",
       "      <th></th>\n",
       "      <th>Y1</th>\n",
       "      <th>Y2</th>\n",
       "      <th>Y</th>\n",
       "      <th>Domain</th>\n",
       "      <th>area</th>\n",
       "      <th>keywords</th>\n",
       "      <th>Abstract</th>\n",
       "    </tr>\n",
       "  </thead>\n",
       "  <tbody>\n",
       "    <tr>\n",
       "      <th>0</th>\n",
       "      <td>0</td>\n",
       "      <td>12</td>\n",
       "      <td>12</td>\n",
       "      <td>CS</td>\n",
       "      <td>Symbolic computation</td>\n",
       "      <td>(2+1)-dimensional non-linear optical waves; e...</td>\n",
       "      <td>(2 + 1)-dimensional non-linear optical waves t...</td>\n",
       "    </tr>\n",
       "    <tr>\n",
       "      <th>1</th>\n",
       "      <td>5</td>\n",
       "      <td>2</td>\n",
       "      <td>74</td>\n",
       "      <td>Medical</td>\n",
       "      <td>Alzheimer's Disease</td>\n",
       "      <td>Aging; Tau; Amyloid; PET; Alzheimer's disease...</td>\n",
       "      <td>(beta-amyloid (A beta) and tau pathology becom...</td>\n",
       "    </tr>\n",
       "    <tr>\n",
       "      <th>2</th>\n",
       "      <td>4</td>\n",
       "      <td>7</td>\n",
       "      <td>68</td>\n",
       "      <td>Civil</td>\n",
       "      <td>Green Building</td>\n",
       "      <td>LED lighting system; PV system; Distributed l...</td>\n",
       "      <td>(D)ecreasing of energy consumption and environ...</td>\n",
       "    </tr>\n",
       "    <tr>\n",
       "      <th>3</th>\n",
       "      <td>1</td>\n",
       "      <td>10</td>\n",
       "      <td>26</td>\n",
       "      <td>ECE</td>\n",
       "      <td>Electric motor</td>\n",
       "      <td>NdFeB magnets; Electric motor; Electric vehic...</td>\n",
       "      <td>(Hybrid) electric vehicles are assumed to play...</td>\n",
       "    </tr>\n",
       "    <tr>\n",
       "      <th>4</th>\n",
       "      <td>5</td>\n",
       "      <td>43</td>\n",
       "      <td>115</td>\n",
       "      <td>Medical</td>\n",
       "      <td>Parkinson's Disease</td>\n",
       "      <td>Parkinson's disease; dyskinesia; adenosine A(...</td>\n",
       "      <td>(L)-3,4-Dihydroxyphenylalanine ((L)-DOPA) rema...</td>\n",
       "    </tr>\n",
       "  </tbody>\n",
       "</table>\n",
       "</div>"
      ],
      "text/plain": [
       "   Y1  Y2    Y    Domain                     area  \\\n",
       "0   0  12   12       CS    Symbolic computation     \n",
       "1   5   2   74  Medical     Alzheimer's Disease     \n",
       "2   4   7   68    Civil          Green Building     \n",
       "3   1  10   26      ECE          Electric motor     \n",
       "4   5  43  115  Medical     Parkinson's Disease     \n",
       "\n",
       "                                            keywords  \\\n",
       "0   (2+1)-dimensional non-linear optical waves; e...   \n",
       "1   Aging; Tau; Amyloid; PET; Alzheimer's disease...   \n",
       "2   LED lighting system; PV system; Distributed l...   \n",
       "3   NdFeB magnets; Electric motor; Electric vehic...   \n",
       "4   Parkinson's disease; dyskinesia; adenosine A(...   \n",
       "\n",
       "                                            Abstract  \n",
       "0  (2 + 1)-dimensional non-linear optical waves t...  \n",
       "1  (beta-amyloid (A beta) and tau pathology becom...  \n",
       "2  (D)ecreasing of energy consumption and environ...  \n",
       "3  (Hybrid) electric vehicles are assumed to play...  \n",
       "4  (L)-3,4-Dihydroxyphenylalanine ((L)-DOPA) rema...  "
      ]
     },
     "execution_count": 90,
     "metadata": {},
     "output_type": "execute_result"
    }
   ],
   "source": [
    "data.head()"
   ]
  },
  {
   "cell_type": "code",
   "execution_count": 91,
   "metadata": {},
   "outputs": [
    {
     "data": {
      "text/plain": [
       "(4698, 7)"
      ]
     },
     "execution_count": 91,
     "metadata": {},
     "output_type": "execute_result"
    }
   ],
   "source": [
    "# sample 10% docs\n",
    "data = data.sample(frac=0.1, random_state=0, replace=False)\n",
    "data.shape"
   ]
  },
  {
   "cell_type": "code",
   "execution_count": 92,
   "metadata": {},
   "outputs": [],
   "source": [
    "corp = data['Abstract']"
   ]
  },
  {
   "cell_type": "code",
   "execution_count": 93,
   "metadata": {},
   "outputs": [
    {
     "data": {
      "text/plain": [
       "34021    The clinical importance of the thyroid nodules...\n",
       "29323    Purpose: The purpose of the study is to examin...\n",
       "379      A double-sided liquid cooling Nd: YAG disk osc...\n",
       "4070     As a fundamental optimization problem, the veh...\n",
       "35682    The increasing air pollution of urban areas ca...\n",
       "                               ...                        \n",
       "17400    In terms of the theories and techniques of net...\n",
       "42607    This study examines women's media selections w...\n",
       "28117    Primary headache disorders, including migraine...\n",
       "11591    Cortisol is one of the most important glucocor...\n",
       "35855    The interpretation of regression models result...\n",
       "Name: Abstract, Length: 4698, dtype: object"
      ]
     },
     "execution_count": 93,
     "metadata": {},
     "output_type": "execute_result"
    }
   ],
   "source": [
    "corp"
   ]
  },
  {
   "cell_type": "code",
   "execution_count": 94,
   "metadata": {},
   "outputs": [
    {
     "data": {
      "text/plain": [
       "34021    the clinical importance of the thyroid nodules...\n",
       "29323    purpose: the purpose of the study is to examin...\n",
       "379      a double-sided liquid cooling nd: yag disk osc...\n",
       "4070     as a fundamental optimization problem, the veh...\n",
       "35682    the increasing air pollution of urban areas ca...\n",
       "Name: Abstract, dtype: object"
      ]
     },
     "execution_count": 94,
     "metadata": {},
     "output_type": "execute_result"
    }
   ],
   "source": [
    "# lowercase\n",
    "corp = corp.str.lower()\n",
    "corp.head()"
   ]
  },
  {
   "cell_type": "code",
   "execution_count": 95,
   "metadata": {},
   "outputs": [
    {
     "data": {
      "text/plain": [
       "34021    the clinical importance of the thyroid nodules...\n",
       "29323    purpose: the purpose of the study is to examin...\n",
       "379      a double-sided liquid cooling nd: yag disk osc...\n",
       "4070     as a fundamental optimization problem, the veh...\n",
       "35682    the increasing air pollution of urban areas ca...\n",
       "                               ...                        \n",
       "17400    in terms of the theories and techniques of net...\n",
       "42607    this study examines women's media selections w...\n",
       "28117    primary headache disorders, including migraine...\n",
       "11591    cortisol is one of the most important glucocor...\n",
       "35855    the interpretation of regression models result...\n",
       "Name: Abstract, Length: 4698, dtype: object"
      ]
     },
     "execution_count": 95,
     "metadata": {},
     "output_type": "execute_result"
    }
   ],
   "source": [
    "corp = corp.astype(str) #cast to string\n",
    "corp = corp[corp!='nan'] #remove nan values\n",
    "corp"
   ]
  },
  {
   "cell_type": "code",
   "execution_count": 96,
   "metadata": {},
   "outputs": [
    {
     "data": {
      "text/plain": [
       "34021    the clinical importance of the thyroid nodules...\n",
       "29323    purpose: the purpose of the study is to examin...\n",
       "379      a double-sided liquid cooling nd: yag disk osc...\n",
       "4070     as a fundamental optimization problem, the veh...\n",
       "35682    the increasing air pollution of urban areas ca...\n",
       "Name: Abstract, dtype: object"
      ]
     },
     "execution_count": 96,
     "metadata": {},
     "output_type": "execute_result"
    }
   ],
   "source": [
    "# remove numbers\n",
    "corp = corp.str.replace(r'[0-9]+', ' ')\n",
    "corp.head()"
   ]
  },
  {
   "cell_type": "code",
   "execution_count": 97,
   "metadata": {},
   "outputs": [],
   "source": [
    "# remove link\n",
    "corp = corp.str.replace(r'http\\S+', ' ')"
   ]
  },
  {
   "cell_type": "code",
   "execution_count": 99,
   "metadata": {},
   "outputs": [
    {
     "data": {
      "text/plain": [
       "34021    the clinical importance of the thyroid nodules...\n",
       "29323    purpose  the purpose of the study is to examin...\n",
       "379      a double sided liquid cooling nd  yag disk osc...\n",
       "4070     as a fundamental optimization problem  the veh...\n",
       "35682    the increasing air pollution of urban areas ca...\n",
       "Name: Abstract, dtype: object"
      ]
     },
     "execution_count": 99,
     "metadata": {},
     "output_type": "execute_result"
    }
   ],
   "source": [
    "# remove special characters\n",
    "corp = corp.str.replace(r'[^a-zA-Z0-9 ]', ' ')\n",
    "corp.head()"
   ]
  },
  {
   "cell_type": "code",
   "execution_count": 100,
   "metadata": {},
   "outputs": [
    {
     "data": {
      "text/plain": [
       "34021    the clinical importance the thyroid nodules pa...\n",
       "29323    purpose  the purpose the study examine the ass...\n",
       "379      double sided liquid cooling  yag disk oscillat...\n",
       "4070     fundamental optimization problem  the vehicle ...\n",
       "35682    the increasing air pollution urban areas cause...\n",
       "Name: Abstract, dtype: object"
      ]
     },
     "execution_count": 100,
     "metadata": {},
     "output_type": "execute_result"
    }
   ],
   "source": [
    "# remove single and double letters\n",
    "corp = corp.str.replace('\\\\b\\\\w{1,2}\\\\s', '')\n",
    "corp.head()"
   ]
  },
  {
   "cell_type": "code",
   "execution_count": 101,
   "metadata": {},
   "outputs": [
    {
     "data": {
      "text/plain": [
       "34021    the clinical importance the thyroid nodules pa...\n",
       "29323    purpose the purpose the study examine the asso...\n",
       "379      double sided liquid cooling yag disk oscillato...\n",
       "4070     fundamental optimization problem the vehicle r...\n",
       "35682    the increasing air pollution urban areas cause...\n",
       "Name: Abstract, dtype: object"
      ]
     },
     "execution_count": 101,
     "metadata": {},
     "output_type": "execute_result"
    }
   ],
   "source": [
    "# remove extra spaces\n",
    "corp = corp.str.replace(' +', ' ')\n",
    "corp.head()"
   ]
  },
  {
   "cell_type": "code",
   "execution_count": 102,
   "metadata": {},
   "outputs": [],
   "source": [
    "# sub-sub sample 10% of corpus\n",
    "corp_subsub = corp.sample(frac=.1, replace=False, random_state=0)"
   ]
  },
  {
   "cell_type": "code",
   "execution_count": 104,
   "metadata": {},
   "outputs": [],
   "source": [
    "# stopwords + tokenization\n",
    "stop = stopwords.words('english')\n",
    "corp_subsub = corp_subsub.apply(lambda x: [item for item in str(x).split() if item not in stop])"
   ]
  },
  {
   "cell_type": "code",
   "execution_count": 105,
   "metadata": {},
   "outputs": [],
   "source": [
    "# stemming\n",
    "stemmer = SnowballStemmer(\"english\")\n",
    "corp_subsub = corp_subsub.apply(lambda x: [stemmer.stem(y) for y in x])"
   ]
  },
  {
   "cell_type": "code",
   "execution_count": 106,
   "metadata": {},
   "outputs": [],
   "source": [
    "corpus_sub = tp.utils.Corpus()\n",
    "for d in corp_subsub:\n",
    "    corpus_sub.add_doc(d)"
   ]
  },
  {
   "cell_type": "code",
   "execution_count": 107,
   "metadata": {},
   "outputs": [],
   "source": [
    "# stopwords + tokenization\n",
    "stop = stopwords.words('english')\n",
    "corp = corp.apply(lambda x: [item for item in str(x).split() if item not in stop])"
   ]
  },
  {
   "cell_type": "code",
   "execution_count": 108,
   "metadata": {},
   "outputs": [],
   "source": [
    "# stemming\n",
    "stemmer = SnowballStemmer(\"english\")\n",
    "corp = corp.apply(lambda x: [stemmer.stem(y) for y in x])"
   ]
  },
  {
   "cell_type": "code",
   "execution_count": 109,
   "metadata": {},
   "outputs": [],
   "source": [
    "corpus = tp.utils.Corpus()\n",
    "for d in corp:\n",
    "    corpus.add_doc(d)"
   ]
  },
  {
   "cell_type": "markdown",
   "metadata": {},
   "source": [
    "### Run the CTM Model"
   ]
  },
  {
   "cell_type": "code",
   "execution_count": 131,
   "metadata": {},
   "outputs": [
    {
     "name": "stdout",
     "output_type": "stream",
     "text": [
      "Num docs:4698, Num Vocabs:5738, Total Words:512493\n",
      "Removed Top words:  use studi patient result system\n"
     ]
    }
   ],
   "source": [
    "model = tp.CTModel(tw=tp.TermWeight.ONE, min_df=5, rm_top=5, k=10, corpus=corpus, seed=999)\n",
    "model.burn_in = 10\n",
    "model.train(0)\n",
    "\n",
    "print('Num docs:{}, Num Vocabs:{}, Total Words:{}'.format(\n",
    "    len(model.docs), len(model.used_vocabs), model.num_words\n",
    "))\n",
    "print('Removed Top words: ', *model.removed_top_words)"
   ]
  },
  {
   "cell_type": "code",
   "execution_count": 132,
   "metadata": {},
   "outputs": [
    {
     "name": "stdout",
     "output_type": "stream",
     "text": [
      "done in 22.152s.\n"
     ]
    }
   ],
   "source": [
    "# Model training\n",
    "t0 = time()\n",
    "model.train(100)\n",
    "print(\"done in %0.3fs.\" % (time() - t0))"
   ]
  },
  {
   "cell_type": "code",
   "execution_count": 136,
   "metadata": {
    "hide_input": false
   },
   "outputs": [
    {
     "name": "stdout",
     "output_type": "stream",
     "text": [
      "Top 30 words of topic #0\n",
      "[('associ', 0.03428752347826958), ('health', 0.028298988938331604), ('risk', 0.023625586181879044), ('gene', 0.022216519340872765), ('age', 0.018787790089845657), ('children', 0.018294617533683777), ('particip', 0.018083257600665092), ('protein', 0.016063595190644264), ('social', 0.015946172177791595), ('factor', 0.014537105336785316), ('intervent', 0.014043932780623436), ('disord', 0.014020447619259357), ('care', 0.013832572847604752), ('examin', 0.013644697144627571), ('cognit', 0.011718972586095333), ('year', 0.011437159031629562), ('individu', 0.011413674801588058), ('role', 0.01108489278703928), ('self', 0.011037923395633698), ('parent', 0.0108970170840621)]\n",
      "\n",
      "\n",
      "Top 30 words of topic #1\n",
      "[('propos', 0.027388697490096092), ('comput', 0.0214783176779747), ('paper', 0.019560232758522034), ('problem', 0.018511977046728134), ('design', 0.018333550542593002), ('model', 0.017664451152086258), ('algorithm', 0.017017655074596405), ('simul', 0.014831929467618465), ('base', 0.014497379772365093), ('structur', 0.01445277314633131), ('solut', 0.012690811417996883), ('applic', 0.012467777356505394), ('techniqu', 0.012066317722201347), ('data', 0.011932497844099998), ('effici', 0.011865587905049324), ('injuri', 0.011776374652981758), ('oper', 0.011486431583762169), ('field', 0.011174185201525688), ('order', 0.01090654544532299), ('complex', 0.010571995750069618)]\n",
      "\n",
      "\n",
      "Top 30 words of topic #2\n",
      "[('present', 0.01778283528983593), ('two', 0.01776241883635521), ('water', 0.016272027045488358), ('differ', 0.015843283385038376), ('approach', 0.015067461878061295), ('imag', 0.013352490030229092), ('condit', 0.012250007130205631), ('high', 0.011698766611516476), ('area', 0.011453770101070404), ('construct', 0.011290439404547215), ('reserv', 0.010759614408016205), ('technolog', 0.010269622318446636), ('right', 0.01024920679628849), ('ltd', 0.00933047104626894), ('distribut', 0.00882006250321865), ('measur', 0.008697564713656902), ('project', 0.00826882105320692), ('compon', 0.008003409020602703), ('pattern', 0.007921744138002396), ('properti', 0.00763591518625617)]\n",
      "\n",
      "\n",
      "Top 30 words of topic #3\n",
      "[('base', 0.02228330448269844), ('model', 0.019251175224781036), ('process', 0.015812046825885773), ('power', 0.01471315510571003), ('manag', 0.014652105048298836), ('materi', 0.013797410763800144), ('design', 0.013349713757634163), ('perform', 0.012332220561802387), ('data', 0.011803124099969864), ('cost', 0.011457176879048347), ('work', 0.011192628182470798), ('obtain', 0.011192628182470798), ('network', 0.010724581778049469), ('consid', 0.01046003308147192), ('new', 0.010215834714472294), ('practic', 0.009422190487384796), ('state', 0.009340791031718254), ('tool', 0.009015193209052086), ('achiev', 0.008994842879474163), ('paper', 0.008852394297719002)]\n",
      "\n",
      "\n",
      "Top 30 words of topic #4\n",
      "[('cell', 0.03713590279221535), ('treatment', 0.032174002379179), ('diseas', 0.02891845442354679), ('group', 0.027414167299866676), ('express', 0.02528122439980507), ('clinic', 0.0225420743227005), ('conclus', 0.01656983233988285), ('symptom', 0.013830682262778282), ('day', 0.0131346695125103), ('therapi', 0.012730532325804234), ('cancer', 0.012573367916047573), ('signific', 0.010193451307713985), ('report', 0.009901574812829494), ('regul', 0.00983421877026558), ('infect', 0.009677054360508919), ('drug', 0.009677054360508919), ('acid', 0.009407630190253258), ('depress', 0.009407630190253258), ('outcom', 0.009385177865624428), ('adult', 0.008666712790727615)]\n",
      "\n",
      "\n",
      "Top 30 words of topic #5\n",
      "[('control', 0.043241675943136215), ('show', 0.021086618304252625), ('perform', 0.018300537019968033), ('energi', 0.014522155746817589), ('detect', 0.013873342424631119), ('generat', 0.013319943100214005), ('optim', 0.013167280703783035), ('paramet', 0.012384888716042042), ('analysi', 0.012327640317380428), ('select', 0.010476614348590374), ('larg', 0.01034303568303585), ('electr', 0.01034303568303585), ('rang', 0.010190373286604881), ('flow', 0.009484312497079372), ('test', 0.008892747573554516), ('process', 0.008873664774000645), ('determin', 0.008644672110676765), ('various', 0.008377513848245144), ('build', 0.00814852025359869), ('novel', 0.007805031258612871)]\n",
      "\n",
      "\n",
      "Top 30 words of topic #6\n",
      "[('level', 0.026512710377573967), ('effect', 0.02166132815182209), ('activ', 0.02006806991994381), ('howev', 0.01756182126700878), ('may', 0.016648830845952034), ('posit', 0.014715439639985561), ('women', 0.01371293980628252), ('increas', 0.012424011714756489), ('test', 0.011707941070199013), ('year', 0.011332003399729729), ('specif', 0.011278297752141953), ('experi', 0.01100977137684822), ('total', 0.010973967611789703), ('stress', 0.01093816477805376), ('common', 0.010204191319644451), ('influenc', 0.010007272474467754), ('relationship', 0.00963133480399847), ('subject', 0.009112183004617691), ('investig', 0.008915264159440994), ('import', 0.00875414814800024)]\n",
      "\n",
      "\n",
      "Top 30 words of topic #7\n",
      "[('method', 0.029359672218561172), ('develop', 0.021830713376402855), ('function', 0.019802363589406013), ('chang', 0.01669108122587204), ('reduc', 0.014972141943871975), ('provid', 0.014576785266399384), ('potenti', 0.01443926990032196), ('review', 0.0130469286814332), ('elsevi', 0.012995360419154167), ('object', 0.01048570778220892), ('number', 0.00983250979334116), ('sever', 0.00983250979334116), ('implement', 0.009763753041625023), ('sampl', 0.009729374200105667), ('limit', 0.00929963868111372), ('also', 0.00905898679047823), ('lower', 0.009007418528199196), ('requir', 0.008990229107439518), ('right', 0.008268274366855621), ('two', 0.008096380159258842)]\n",
      "\n",
      "\n",
      "Top 30 words of topic #8\n",
      "[('effect', 0.017322124913334846), ('time', 0.016291888430714607), ('evalu', 0.01596011593937874), ('relat', 0.015174342319369316), ('higher', 0.013952028006315231), ('three', 0.013882181607186794), ('found', 0.013812334276735783), ('non', 0.013445639982819557), ('rate', 0.01250271126627922), ('includ', 0.012467787601053715), ('behavior', 0.012363018468022346), ('indic', 0.01211855560541153), ('measur', 0.011140703223645687), ('signific', 0.009813617914915085), ('assess', 0.009656463749706745), ('popul', 0.009586617350578308), ('aim', 0.009324692189693451), ('investig', 0.009289768524467945), ('score', 0.007980145514011383), ('point', 0.007927760481834412)]\n",
      "\n",
      "\n",
      "Top 30 words of topic #9\n",
      "[('compar', 0.019804026931524277), ('differ', 0.01864008605480194), ('well', 0.016497761011123657), ('also', 0.016329074278473854), ('improv', 0.015418163500726223), ('find', 0.013528868556022644), ('case', 0.01305654551833868), ('increas', 0.012449271976947784), ('identifi', 0.01219624187797308), ('first', 0.011352806352078915), ('high', 0.010610583238303661), ('inform', 0.010104522109031677), ('one', 0.010037047788500786), ('observ', 0.00998644158244133), ('recent', 0.009345430880784988), ('main', 0.00919361226260662), ('low', 0.008923713117837906), ('data', 0.008468258194625378), ('discuss', 0.008198359049856663), ('type', 0.007860984653234482)]\n",
      "\n",
      "\n"
     ]
    }
   ],
   "source": [
    "# visualize top 20 words per topic\n",
    "for k in range(model.k):\n",
    "    print('Top 30 words of topic #{}'.format(k))\n",
    "    print(model.get_topic_words(k, top_n=20))\n",
    "    print('\\n')"
   ]
  },
  {
   "cell_type": "markdown",
   "metadata": {},
   "source": [
    "### CTM visualization"
   ]
  },
  {
   "cell_type": "code",
   "execution_count": 134,
   "metadata": {},
   "outputs": [
    {
     "name": "stdout",
     "output_type": "stream",
     "text": [
      "Topic #0 associ health risk gene age children particip protein social factor intervent disord care examin cognit year individu role self parent\n",
      "Topic #1 propos comput paper problem design model algorithm simul base structur solut applic techniqu data effici injuri oper field order complex\n",
      "Topic #2 present two water differ approach imag condit high area construct reserv technolog right ltd distribut measur project compon pattern properti\n",
      "Topic #3 base model process power manag materi design perform data cost work obtain network consid new practic state tool achiev paper\n",
      "Topic #4 cell treatment diseas group express clinic conclus symptom day therapi cancer signific report regul infect drug acid depress outcom adult\n",
      "Topic #5 control show perform energi detect generat optim paramet analysi select larg electr rang flow test process determin various build novel\n",
      "Topic #6 level effect activ howev may posit women increas test year specif experi total stress common influenc relationship subject investig import\n",
      "Topic #7 method develop function chang reduc provid potenti review elsevi object number sever implement sampl limit also lower requir right two\n",
      "Topic #8 effect time evalu relat higher three found non rate includ behavior indic measur signific assess popul aim investig score point\n",
      "Topic #9 compar differ well also improv find case increas identifi first high inform one observ recent main low data discuss type\n"
     ]
    }
   ],
   "source": [
    "# Visualize results and correlations between topic in graph\n",
    "g = Network(width=800, height=800, font_color=\"#333\")\n",
    "correl = model.get_correlations().reshape([-1])\n",
    "correl.sort()\n",
    "top_tenth = model.k * (model.k - 1) // 10\n",
    "top_tenth = correl[-model.k - top_tenth]\n",
    "\n",
    "for k in range(model.k):\n",
    "    label = \"#{}\".format(k)\n",
    "    title= ' '.join(word for word, _ in model.get_topic_words(k, top_n=20))\n",
    "    print('Topic', label, title)\n",
    "    g.add_node(k, label=label, title=title, shape='ellipse')\n",
    "    for l, correlation in zip(range(k - 1), model.get_correlations(k)):\n",
    "        if correlation < top_tenth: continue\n",
    "        g.add_edge(k, l, value=float(correlation), title='{:.02}'.format(correlation))\n",
    "\n",
    "g.barnes_hut(gravity=-1000, spring_length=20)\n",
    "g.show_buttons()\n",
    "g.show(\"topic_network.html\")"
   ]
  },
  {
   "cell_type": "markdown",
   "metadata": {},
   "source": [
    "### CTM on Sub-Subsampled data"
   ]
  },
  {
   "cell_type": "code",
   "execution_count": 112,
   "metadata": {},
   "outputs": [
    {
     "name": "stdout",
     "output_type": "stream",
     "text": [
      "Num docs:470, Num Vocabs:1491, Total Words:42176\n",
      "Removed Top words:  use studi patient result control\n"
     ]
    }
   ],
   "source": [
    "model = tp.CTModel(tw=tp.TermWeight.ONE, min_df=5, rm_top=5, k=10, corpus=corpus_sub, seed=999)\n",
    "model.burn_in = 10\n",
    "model.train(0)\n",
    "\n",
    "print('Num docs:{}, Num Vocabs:{}, Total Words:{}'.format(\n",
    "    len(model.docs), len(model.used_vocabs), model.num_words\n",
    "))\n",
    "print('Removed Top words: ', *model.removed_top_words)"
   ]
  },
  {
   "cell_type": "code",
   "execution_count": 113,
   "metadata": {},
   "outputs": [
    {
     "name": "stdout",
     "output_type": "stream",
     "text": [
      "done in 2.045s.\n"
     ]
    }
   ],
   "source": [
    "# Model training\n",
    "t0 = time()\n",
    "model.train(100)\n",
    "print(\"done in %0.3fs.\" % (time() - t0))"
   ]
  }
 ],
 "metadata": {
  "kernelspec": {
   "display_name": "Python 3",
   "language": "python",
   "name": "python3"
  },
  "language_info": {
   "codemirror_mode": {
    "name": "ipython",
    "version": 3
   },
   "file_extension": ".py",
   "mimetype": "text/x-python",
   "name": "python",
   "nbconvert_exporter": "python",
   "pygments_lexer": "ipython3",
   "version": "3.7.4"
  }
 },
 "nbformat": 4,
 "nbformat_minor": 4
}
